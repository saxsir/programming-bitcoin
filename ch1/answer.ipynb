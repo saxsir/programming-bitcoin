{
 "cells": [
  {
   "cell_type": "code",
   "execution_count": 26,
   "id": "corporate-refrigerator",
   "metadata": {},
   "outputs": [],
   "source": [
    "from ecc import FieldElement"
   ]
  },
  {
   "cell_type": "code",
   "execution_count": 27,
   "id": "australian-wagon",
   "metadata": {},
   "outputs": [],
   "source": [
    "a = FieldElement(7, 13)\n",
    "b = FieldElement(6, 13)"
   ]
  },
  {
   "cell_type": "code",
   "execution_count": 28,
   "id": "blocked-expansion",
   "metadata": {},
   "outputs": [
    {
     "name": "stdout",
     "output_type": "stream",
     "text": [
      "False\n"
     ]
    }
   ],
   "source": [
    "print(a ==b)"
   ]
  },
  {
   "cell_type": "code",
   "execution_count": 29,
   "id": "fabulous-titanium",
   "metadata": {},
   "outputs": [
    {
     "name": "stdout",
     "output_type": "stream",
     "text": [
      "True\n"
     ]
    }
   ],
   "source": [
    "print(a==a)"
   ]
  },
  {
   "cell_type": "code",
   "execution_count": 30,
   "id": "agricultural-hearts",
   "metadata": {},
   "outputs": [
    {
     "name": "stdout",
     "output_type": "stream",
     "text": [
      "False\n"
     ]
    }
   ],
   "source": [
    "print(a!=a)"
   ]
  },
  {
   "cell_type": "code",
   "execution_count": 31,
   "id": "critical-brass",
   "metadata": {},
   "outputs": [
    {
     "name": "stdout",
     "output_type": "stream",
     "text": [
      "True\n"
     ]
    }
   ],
   "source": [
    "# 練習問題1\n",
    "print(a!=b)"
   ]
  },
  {
   "cell_type": "code",
   "execution_count": 32,
   "id": "transparent-healing",
   "metadata": {},
   "outputs": [
    {
     "name": "stdout",
     "output_type": "stream",
     "text": [
      "1\n"
     ]
    }
   ],
   "source": [
    "print(7 % 3)"
   ]
  },
  {
   "cell_type": "code",
   "execution_count": 33,
   "id": "quality-lightweight",
   "metadata": {},
   "outputs": [
    {
     "name": "stdout",
     "output_type": "stream",
     "text": [
      "12\n"
     ]
    }
   ],
   "source": [
    "print(-27 % 13)"
   ]
  },
  {
   "cell_type": "code",
   "execution_count": 34,
   "id": "painful-objective",
   "metadata": {},
   "outputs": [
    {
     "name": "stdout",
     "output_type": "stream",
     "text": [
      "20\n",
      "37\n",
      "51\n",
      "41\n"
     ]
    }
   ],
   "source": [
    "# 練習問題2\n",
    "prime = 57\n",
    "print( (44+33) % prime)\n",
    "print( (9-29) % prime)\n",
    "print( (17 + 42 + 49) % prime)\n",
    "print( (52 - 30 - 38) % prime)"
   ]
  },
  {
   "cell_type": "code",
   "execution_count": 35,
   "id": "democratic-pasta",
   "metadata": {},
   "outputs": [
    {
     "name": "stdout",
     "output_type": "stream",
     "text": [
      "True\n"
     ]
    }
   ],
   "source": [
    "from ecc import FieldElement\n",
    "a = FieldElement(7, 13)\n",
    "b = FieldElement(12, 13)\n",
    "c = FieldElement(6, 13)\n",
    "\n",
    "print(a+b==c)"
   ]
  },
  {
   "cell_type": "code",
   "execution_count": 36,
   "id": "dutch-difference",
   "metadata": {},
   "outputs": [
    {
     "name": "stdout",
     "output_type": "stream",
     "text": [
      "FieldElement_57(20)\n"
     ]
    }
   ],
   "source": [
    "from ecc import FieldElement\n",
    "a = FieldElement(44, 57)\n",
    "b = FieldElement(33, 57)\n",
    "\n",
    "print(a+b)"
   ]
  },
  {
   "cell_type": "code",
   "execution_count": 37,
   "id": "agricultural-arthritis",
   "metadata": {},
   "outputs": [],
   "source": [
    "# commit: 加算できるようになった"
   ]
  },
  {
   "cell_type": "code",
   "execution_count": 38,
   "id": "rough-distribution",
   "metadata": {},
   "outputs": [
    {
     "name": "stdout",
     "output_type": "stream",
     "text": [
      "FieldElement_57(37)\n"
     ]
    }
   ],
   "source": [
    "# 練習問題3: 減算できるようになった\n",
    "\n",
    "from ecc import FieldElement\n",
    "a = FieldElement(9, 57)\n",
    "b = FieldElement(29, 57)\n",
    "\n",
    "print(a-b)"
   ]
  },
  {
   "cell_type": "code",
   "execution_count": 39,
   "id": "reliable-designer",
   "metadata": {},
   "outputs": [
    {
     "name": "stdout",
     "output_type": "stream",
     "text": [
      "23\n",
      "68\n",
      "63\n"
     ]
    }
   ],
   "source": [
    "# 練習問題4\n",
    "\n",
    "prime = 97\n",
    "print(95*45*31 % prime)\n",
    "print(17*13*19*44 % prime)\n",
    "print(12**7*77**49% prime)"
   ]
  },
  {
   "cell_type": "code",
   "execution_count": 40,
   "id": "other-monthly",
   "metadata": {},
   "outputs": [
    {
     "name": "stdout",
     "output_type": "stream",
     "text": [
      "[0, 1, 2, 3, 4, 5, 6, 7, 8, 9, 10, 11, 12, 13, 14, 15, 16, 17, 18]\n",
      "[0, 3, 6, 9, 12, 15, 18, 2, 5, 8, 11, 14, 17, 1, 4, 7, 10, 13, 16]\n",
      "[0, 7, 14, 2, 9, 16, 4, 11, 18, 6, 13, 1, 8, 15, 3, 10, 17, 5, 12]\n",
      "[0, 13, 7, 1, 14, 8, 2, 15, 9, 3, 16, 10, 4, 17, 11, 5, 18, 12, 6]\n",
      "[0, 18, 17, 16, 15, 14, 13, 12, 11, 10, 9, 8, 7, 6, 5, 4, 3, 2, 1]\n"
     ]
    }
   ],
   "source": [
    "# 練習問題5\n",
    "prime = 19\n",
    "for k in (1,3,7,13,18):\n",
    "    print([k*i % prime for i in range(prime)])"
   ]
  },
  {
   "cell_type": "code",
   "execution_count": 41,
   "id": "blond-chest",
   "metadata": {},
   "outputs": [
    {
     "name": "stdout",
     "output_type": "stream",
     "text": [
      "[0, 1, 2, 3, 4, 5, 6, 7, 8, 9, 10, 11, 12, 13, 14, 15, 16, 17, 18]\n",
      "[0, 1, 2, 3, 4, 5, 6, 7, 8, 9, 10, 11, 12, 13, 14, 15, 16, 17, 18]\n",
      "[0, 1, 2, 3, 4, 5, 6, 7, 8, 9, 10, 11, 12, 13, 14, 15, 16, 17, 18]\n",
      "[0, 1, 2, 3, 4, 5, 6, 7, 8, 9, 10, 11, 12, 13, 14, 15, 16, 17, 18]\n",
      "[0, 1, 2, 3, 4, 5, 6, 7, 8, 9, 10, 11, 12, 13, 14, 15, 16, 17, 18]\n"
     ]
    }
   ],
   "source": [
    "for k in (1,3,7,13,18):\n",
    "    print(sorted([k*i % prime for i in range(prime)]))"
   ]
  },
  {
   "cell_type": "code",
   "execution_count": 2,
   "id": "dress-beaver",
   "metadata": {},
   "outputs": [
    {
     "name": "stdout",
     "output_type": "stream",
     "text": [
      "True\n"
     ]
    }
   ],
   "source": [
    "# 練習問題6\n",
    "from ecc import FieldElement\n",
    "\n",
    "a = FieldElement(3, 13)\n",
    "b = FieldElement(12, 13)\n",
    "c = FieldElement(10, 13)\n",
    "print(a*b==c)"
   ]
  },
  {
   "cell_type": "code",
   "execution_count": 3,
   "id": "golden-finish",
   "metadata": {},
   "outputs": [
    {
     "name": "stdout",
     "output_type": "stream",
     "text": [
      "True\n"
     ]
    }
   ],
   "source": [
    "from ecc import FieldElement\n",
    "\n",
    "a = FieldElement(3, 13)\n",
    "b = FieldElement(1, 13)\n",
    "print(a**3==b)"
   ]
  },
  {
   "cell_type": "code",
   "execution_count": 4,
   "id": "metallic-corps",
   "metadata": {},
   "outputs": [
    {
     "name": "stdout",
     "output_type": "stream",
     "text": [
      "[1, 1, 1, 1, 1, 1]\n",
      "[1, 1, 1, 1, 1, 1, 1, 1, 1, 1]\n",
      "[1, 1, 1, 1, 1, 1, 1, 1, 1, 1, 1, 1, 1, 1, 1, 1]\n",
      "[1, 1, 1, 1, 1, 1, 1, 1, 1, 1, 1, 1, 1, 1, 1, 1, 1, 1, 1, 1, 1, 1, 1, 1, 1, 1, 1, 1, 1, 1]\n"
     ]
    }
   ],
   "source": [
    "# 練習問題7\n",
    "for prime in (7,11,17,31):\n",
    "    print([pow(i, prime-1, prime) for i in range(1, prime)])\n"
   ]
  },
  {
   "cell_type": "code",
   "execution_count": 7,
   "id": "static-curve",
   "metadata": {},
   "outputs": [
    {
     "name": "stdout",
     "output_type": "stream",
     "text": [
      "4\n",
      "29\n",
      "13\n"
     ]
    }
   ],
   "source": [
    "# 練習問題8\n",
    "prime = 31\n",
    "print(3*pow(24, prime-2, prime) % prime)\n",
    "\n",
    "print(pow(17, prime-4, prime) % prime)\n",
    "\n",
    "print(pow(4, prime-5, prime) * 11 % prime)"
   ]
  },
  {
   "cell_type": "code",
   "execution_count": 1,
   "id": "magnetic-defense",
   "metadata": {},
   "outputs": [
    {
     "name": "stdout",
     "output_type": "stream",
     "text": [
      "True\n"
     ]
    }
   ],
   "source": [
    "# 1.8 べき演算の再定義\n",
    "from ecc import FieldElement\n",
    "\n",
    "a = FieldElement(7, 13)\n",
    "b = FieldElement(8, 13)\n",
    "print(a**-3==b)"
   ]
  },
  {
   "cell_type": "code",
   "execution_count": null,
   "id": "exterior-geometry",
   "metadata": {},
   "outputs": [],
   "source": []
  }
 ],
 "metadata": {
  "kernelspec": {
   "display_name": "Python 3",
   "language": "python",
   "name": "python3"
  },
  "language_info": {
   "codemirror_mode": {
    "name": "ipython",
    "version": 3
   },
   "file_extension": ".py",
   "mimetype": "text/x-python",
   "name": "python",
   "nbconvert_exporter": "python",
   "pygments_lexer": "ipython3",
   "version": "3.8.8"
  }
 },
 "nbformat": 4,
 "nbformat_minor": 5
}
