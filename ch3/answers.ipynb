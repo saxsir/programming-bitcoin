{
 "cells": [
  {
   "cell_type": "code",
   "execution_count": 21,
   "id": "classical-basin",
   "metadata": {},
   "outputs": [
    {
     "name": "stdout",
     "output_type": "stream",
     "text": [
      "{'a': FieldElement_223(0),\n",
      " 'b': FieldElement_223(7),\n",
      " 'x': FieldElement_223(192),\n",
      " 'y': FieldElement_223(105)}\n"
     ]
    }
   ],
   "source": [
    "from pprint import pprint\n",
    "from ecc import FieldElement, Point\n",
    "\n",
    "a = FieldElement(num=0, prime=223)\n",
    "b = FieldElement(num=7, prime=223)\n",
    "x = FieldElement(num=192, prime=223)\n",
    "y = FieldElement(num=105, prime=223)\n",
    "\n",
    "p1 = Point(x, y, a, b)\n",
    "\n",
    "pprint(vars(p1))"
   ]
  },
  {
   "cell_type": "code",
   "execution_count": 22,
   "id": "prescribed-ultimate",
   "metadata": {},
   "outputs": [
    {
     "name": "stderr",
     "output_type": "stream",
     "text": [
      ".\n",
      "----------------------------------------------------------------------\n",
      "Ran 1 test in 0.001s\n",
      "\n",
      "OK\n"
     ]
    }
   ],
   "source": [
    "import ecc\n",
    "from helper import run\n",
    "run(ecc.ECCTest('test_on_curve'))"
   ]
  },
  {
   "cell_type": "code",
   "execution_count": null,
   "id": "fourth-retro",
   "metadata": {},
   "outputs": [],
   "source": [
    "from pprint import pprint\n",
    "from ecc import FieldElement, Point\n",
    "\n",
    "prime = 223\n",
    "\n",
    "a = FieldElement(num=0, prime=prime)\n",
    "b = FieldElement(num=7, prime=prime)\n",
    "x1 = FieldElement(num=192, prime=prime)\n",
    "y1 = FieldElement(num=105, prime=prime)\n",
    "\n",
    "x2 = FieldElement(num=17, prime=prime)\n",
    "y2 = FieldElement(num=56, prime=prime)\n",
    "\n",
    "p1 = Point(x1, y1, a, b)\n",
    "p2 = Point(x2, y2, a, b)\n",
    "\n",
    "pprint(vars(p1 + p))"
   ]
  }
 ],
 "metadata": {
  "kernelspec": {
   "display_name": "Python 3",
   "language": "python",
   "name": "python3"
  },
  "language_info": {
   "codemirror_mode": {
    "name": "ipython",
    "version": 3
   },
   "file_extension": ".py",
   "mimetype": "text/x-python",
   "name": "python",
   "nbconvert_exporter": "python",
   "pygments_lexer": "ipython3",
   "version": "3.8.8"
  }
 },
 "nbformat": 4,
 "nbformat_minor": 5
}
